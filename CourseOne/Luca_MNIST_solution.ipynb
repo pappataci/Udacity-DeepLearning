{
 "cells": [
  {
   "cell_type": "code",
   "execution_count": 109,
   "id": "eed8075e",
   "metadata": {},
   "outputs": [],
   "source": [
    "## This cell contains the essential imports you will need – DO NOT CHANGE THE CONTENTS! ##\n",
    "# src: MNIST_Handwritten_Digits_STARTER.ipynb\n",
    "import torch\n",
    "import torch.nn as nn\n",
    "import torch.nn.functional as F\n",
    "import torch.optim as optim\n",
    "import torchvision\n",
    "import torchvision.transforms as transforms\n",
    "import matplotlib.pyplot as plt\n",
    "import numpy as np\n",
    "from torch.utils.data import DataLoader\n",
    "\n",
    "# MNIST is a default dataset: we can load from torchvision directly\n",
    "from torchvision import datasets\n",
    "\n",
    "# Additional optimizer for tuning the hyperparameters\n",
    "# src: https://optuna.org\n",
    "import optuna\n",
    "\n",
    "# used later for testing resnet\n",
    "import torchvision.models as models\n",
    "\n",
    "# used for storing the current best params set\n",
    "import copy"
   ]
  },
  {
   "cell_type": "markdown",
   "id": "cd6d6faa",
   "metadata": {},
   "source": [
    "#### For Reproducibility"
   ]
  },
  {
   "cell_type": "code",
   "execution_count": 2,
   "id": "a14f2476",
   "metadata": {},
   "outputs": [
    {
     "data": {
      "text/plain": [
       "<torch._C.Generator at 0x113e185d0>"
      ]
     },
     "execution_count": 2,
     "metadata": {},
     "output_type": "execute_result"
    }
   ],
   "source": [
    "torch_seed = 11\n",
    "torch.manual_seed(torch_seed)"
   ]
  },
  {
   "cell_type": "markdown",
   "id": "e3a41a07",
   "metadata": {},
   "source": [
    "# Data Loading"
   ]
  },
  {
   "cell_type": "code",
   "execution_count": 3,
   "id": "c0586af1",
   "metadata": {},
   "outputs": [],
   "source": [
    "data_folder = r'./data'"
   ]
  },
  {
   "cell_type": "code",
   "execution_count": 4,
   "id": "ef6540c5",
   "metadata": {},
   "outputs": [],
   "source": [
    "train_raw = datasets.MNIST(root=data_folder, train=True, download = True, transform=None)\n",
    "test_raw =  datasets.MNIST(root=data_folder, train=False,download = True, transform=None)"
   ]
  },
  {
   "cell_type": "markdown",
   "id": "7fe0edec",
   "metadata": {},
   "source": [
    "## Now use the non-transformed data, to visualize those\n"
   ]
  },
  {
   "cell_type": "markdown",
   "id": "6d7c0918",
   "metadata": {},
   "source": [
    "#### Identifying the shapes of our data sets; expecting: (60k, 28, 28) and (10k, 28, 28), for train and test, respectively."
   ]
  },
  {
   "cell_type": "code",
   "execution_count": 5,
   "id": "85241ea7",
   "metadata": {},
   "outputs": [
    {
     "name": "stdout",
     "output_type": "stream",
     "text": [
      "train shape: torch.Size([60000, 28, 28]) ; \n",
      "test  shape: torch.Size([10000, 28, 28])\n"
     ]
    }
   ],
   "source": [
    "print(f'train shape: {train_raw.data.shape} ; \\ntest  shape: {test_raw.data.shape}' )"
   ]
  },
  {
   "cell_type": "code",
   "execution_count": 6,
   "id": "90eb70a6",
   "metadata": {},
   "outputs": [],
   "source": [
    "def create_subplot_image( axis_ref, data_structure, lbl_id):\n",
    "    axis_ref.imshow(data_structure.data[lbl_id,:,:].numpy(), cmap='gray')\n",
    "    axis_ref.axis('off')\n",
    "    axis_ref.title.set_text(f\"Label: {data_structure.targets[lbl_id]}\")\n",
    "    pass # only side effects (maybe should return the axis?)"
   ]
  },
  {
   "cell_type": "code",
   "execution_count": 7,
   "id": "d060f6b6",
   "metadata": {},
   "outputs": [],
   "source": [
    "def create_panel_of_consecutive_ex_images(init_idx, panel_dims = (3,5) , input_data = train_raw):\n",
    "    fig , ax = plt.subplots(*panel_dims)\n",
    "    X_plt_indx, Y_plt_indx = np.meshgrid(np.arange(panel_dims[0] ) , \n",
    "                                                   np.arange(panel_dims[1]))\n",
    "    sequential_indexed_couple = zip(X_plt_indx.flatten(), Y_plt_indx.flatten() )\n",
    "    [create_subplot_image(ax[plot_tuple_idx[0], plot_tuple_idx[1] ],\n",
    "                          input_data, \n",
    "                          init_idx + seq_idx) for seq_idx, plot_tuple_idx in enumerate(sequential_indexed_couple)]\n",
    "    pass"
   ]
  },
  {
   "cell_type": "markdown",
   "id": "a87ce7c2",
   "metadata": {},
   "source": [
    "### Example of visualization"
   ]
  },
  {
   "cell_type": "code",
   "execution_count": 8,
   "id": "28ada8b7",
   "metadata": {},
   "outputs": [
    {
     "data": {
      "image/png": "[encoded data removed]",
      "text/plain": [
       "<Figure size 640x480 with 15 Axes>"
      ]
     },
     "metadata": {},
     "output_type": "display_data"
    }
   ],
   "source": [
    "start_idx = 35\n",
    "panel_dimension = (3,5)\n",
    "create_panel_of_consecutive_ex_images(start_idx, panel_dims = panel_dimension)"
   ]
  },
  {
   "cell_type": "markdown",
   "id": "b29f89ca",
   "metadata": {},
   "source": [
    "## Create the appropriate transformation pipeline"
   ]
  },
  {
   "cell_type": "code",
   "execution_count": 9,
   "id": "866e6098",
   "metadata": {},
   "outputs": [
    {
     "name": "stdout",
     "output_type": "stream",
     "text": [
      "Max data value: 255\n",
      "mean: 0.1307; std: 0.3081\n"
     ]
    }
   ],
   "source": [
    "# values inspired by this discussion \n",
    "# [1] https://stackoverflow.com/questions/63746182/correct-way-of-normalizing-and-scaling-the-mnist-dataset\n",
    "\n",
    "# to check my reasoning check the values\n",
    "max_data_value  = train_raw.data.max() # should be 255\n",
    "print(f'Max data value: {max_data_value:3.0f}')\n",
    "\n",
    "img_mean = torch.mean(train_raw.data, dtype=torch.float32)/max_data_value # mean of inputs,\n",
    "# when data are scaled between 0 and 1 (from ToTensor)\n",
    "# torch.Tensor.std(train_raw.data, dtype = torch.float32) this won't work: convertingo to numpy will do the trick\n",
    "\n",
    "img_std = train_raw.data.to_dense().numpy().std()/max_data_value\n",
    "\n",
    "print(f'mean: {img_mean.numpy():.4f}; std: {img_std:.4f}') # expected 0.1307 and 0.3081, respectively, \n",
    "# according to [1]"
   ]
  },
  {
   "cell_type": "code",
   "execution_count": 10,
   "id": "42f605af",
   "metadata": {},
   "outputs": [],
   "source": [
    "# transformation pipeline\n",
    "transform_pipeline = transforms.Compose([transforms.ToTensor(), \n",
    "                                transforms.Normalize((img_mean,), (img_std,))\n",
    "                               ])"
   ]
  },
  {
   "cell_type": "code",
   "execution_count": 11,
   "id": "ce8f09a5",
   "metadata": {},
   "outputs": [],
   "source": [
    "# Transformed data (to be used by the network)\n",
    "\n",
    "train_data = datasets.MNIST(root=data_folder, train=True,  download = False, transform=transform_pipeline )\n",
    "test_data =  datasets.MNIST(root=data_folder, train=False, download = False, transform=transform_pipeline)"
   ]
  },
  {
   "cell_type": "code",
   "execution_count": 12,
   "id": "3f6b8fcb",
   "metadata": {},
   "outputs": [],
   "source": [
    "_, img_rows, img_cols = (train_raw.data.numpy().shape)\n",
    "network_input_dim = img_rows * img_cols"
   ]
  },
  {
   "cell_type": "code",
   "execution_count": 13,
   "id": "8681c24b",
   "metadata": {},
   "outputs": [],
   "source": [
    "# helper functions to create data loader (and deal with batches)\n",
    "\n",
    "def get_data_loaded_in_batches(current_data, batch_size, shuffle = True):\n",
    "    return DataLoader(current_data, batch_size = batch_size, shuffle = shuffle)\n",
    "\n",
    "def get_train_and_test_data_w_batch_size(batch_size, train_data = train_data, test_data = test_data ):\n",
    "    return get_data_loaded_in_batches(train_data, batch_size, shuffle=True), \\\n",
    "           get_data_loaded_in_batches(test_data, batch_size, shuffle=False)"
   ]
  },
  {
   "cell_type": "markdown",
   "id": "f2ce8354",
   "metadata": {},
   "source": [
    "### Definition of the Neural Network (Non Convolutional)"
   ]
  },
  {
   "cell_type": "code",
   "execution_count": 14,
   "id": "630d3883",
   "metadata": {},
   "outputs": [],
   "source": [
    "# implementation inspired by the lectures\n",
    "# and by https://github.com/optuna/optuna-examples/blob/main/pytorch/pytorch_simple.py\n",
    "\n",
    "class MNIST_MLP(nn.Module):\n",
    "    def __init__(self , n_nodes, n_classes = 10):\n",
    "        super().__init__()\n",
    "        \n",
    "        self.n_classes = n_classes\n",
    "        self.activation = F.relu # for now we stick with ReLU\n",
    "        self.output = F.log_softmax # multiple category\n",
    "        self.fc1 = nn.Linear(network_input_dim, n_nodes[0])\n",
    "        self.fc2 = nn.Linear(n_nodes[0], n_nodes[1])\n",
    "        self.fc3 = nn.Linear(n_nodes[1], n_classes)\n",
    "\n",
    "    def forward(self, x):\n",
    "        x = torch.flatten(x, 1) # flatten all dimensions except batch\n",
    "        x = self.activation(self.fc1(x))\n",
    "        x = self.activation(self.fc2(x))\n",
    "        x = self.output(self.fc3(x), dim=1)\n",
    "        return x"
   ]
  },
  {
   "cell_type": "code",
   "execution_count": 15,
   "id": "8d7802ae",
   "metadata": {},
   "outputs": [],
   "source": [
    "def get_model_device(model):\n",
    "    #adapted from: https://stackoverflow.com/questions/58926054/how-to-get-the-device-type-of-a-pytorch-module-conveniently\n",
    "    return next(model.parameters()).device"
   ]
  },
  {
   "cell_type": "code",
   "execution_count": 110,
   "id": "ae0705f1",
   "metadata": {
    "scrolled": true
   },
   "outputs": [],
   "source": [
    "def get_num_of_correctly_predicted_samples(predicted, labels):\n",
    "    predicted_labels = torch.argmax(predicted.detach(),1) # possibly detach is not necessary here. Please clarify\n",
    "    return torch.count_nonzero(torch.eq(predicted_labels, labels))\n",
    "\n",
    "def evaluation_step(loss, _ ):\n",
    "    return loss\n",
    "\n",
    "def training_step(loss, optimizer):\n",
    "    # init gradient\n",
    "    optimizer.zero_grad()\n",
    "    \n",
    "    # compute gradient\n",
    "    loss.backward()\n",
    "    \n",
    "    # update the model's weights\n",
    "    optimizer.step()\n",
    "    return loss\n",
    "\n",
    "def batch_process(inputs, labels, optimizer, model, processing_fcn, device, criterion = F.cross_entropy):\n",
    "\n",
    "    # estimate model's prediction\n",
    "    output = model(inputs)\n",
    "\n",
    "    # compute loss\n",
    "    loss = criterion(output, labels)\n",
    "    \n",
    "    # do nothing or train, depending on the processing function\n",
    "    loss = processing_fcn(loss, optimizer)\n",
    "    \n",
    "    # get the number of rightly predicted items\n",
    "    currectly_predicted_samples = get_num_of_correctly_predicted_samples(output, labels)\n",
    "    \n",
    "    return loss, currectly_predicted_samples"
   ]
  },
  {
   "cell_type": "code",
   "execution_count": 111,
   "id": "a3ee8c0f",
   "metadata": {},
   "outputs": [],
   "source": [
    "def process_all_data_from_loader_n_get_metrics(data_loader, optimizer, model, processing_fcn,\n",
    "                                               device = None, \n",
    "                                               criterion = F.cross_entropy):\n",
    "    \n",
    "    if not device:\n",
    "        device = get_model_device(model)\n",
    "    \n",
    "    running_loss = 0.0 \n",
    "    train_correct = 0 # init number of correctly classified items\n",
    "    \n",
    "    for index, data in enumerate(data_loader):\n",
    "        \n",
    "        inputs, labels = data\n",
    "        \n",
    "        # dump data to device\n",
    "        inputs, labels = inputs.to(device), labels.to(device)\n",
    "        \n",
    "        current_loss, currectly_classified_items = batch_process(inputs, labels, optimizer, model, processing_fcn,  device, criterion) # batch_process\n",
    "        running_loss += current_loss.item()\n",
    "        train_correct += currectly_classified_items\n",
    "    \n",
    "    return running_loss, train_correct"
   ]
  },
  {
   "cell_type": "code",
   "execution_count": 112,
   "id": "10e10f0b",
   "metadata": {},
   "outputs": [],
   "source": [
    "def train_net_on_data(data_loader, optimizer, model,\n",
    "                      device,\n",
    "                      criterion = F.cross_entropy):\n",
    "    model.train()\n",
    "    return process_all_data_from_loader_n_get_metrics(data_loader, optimizer, model, training_step, device, criterion)\n",
    "\n",
    "\n",
    "def eval_net_on_data(data_loader, model,\n",
    "                     device,\n",
    "                     criterion= F.cross_entropy):\n",
    "    model.eval()\n",
    "    return process_all_data_from_loader_n_get_metrics(data_loader, None, model, evaluation_step, device, criterion)"
   ]
  },
  {
   "cell_type": "code",
   "execution_count": 129,
   "id": "503c16c4",
   "metadata": {},
   "outputs": [],
   "source": [
    "class PerformanceImprover():\n",
    "    def __init__(self , max_count = 5, window = 2, loss_threshold = 1.0e-2, acc_threshold = 1.0e-2):\n",
    "        self.best_val_loss_mean = np.infty\n",
    "        self.best_val_acc_mean = 0.0\n",
    "        self.counter = 0\n",
    "        self.max_count = max_count\n",
    "        self.loss_threshold = loss_threshold\n",
    "        self.acc_threshold = acc_threshold\n",
    "        self.window = window\n",
    "        \n",
    "    def is_improving(self, val_loss, val_accuracy):\n",
    "        \n",
    "        def get_mean_of_last_n_elements(list_of_values, num_of_elements):\n",
    "            return np.mean(list_of_values[-num_of_elements:]) # handles automatically list shorter than num_of_elements\n",
    "        \n",
    "        if not val_loss:\n",
    "            return True\n",
    "        \n",
    "        self.counter += 1 \n",
    "        \n",
    "        current_val_loss_mean = get_mean_of_last_n_elements(val_loss, self.window)\n",
    "        current_val_acc_mean = get_mean_of_last_n_elements(val_accuracy , self.window)\n",
    "        \n",
    "        loss_has_improved = current_val_loss_mean < (self.best_val_loss_mean - self.loss_threshold)\n",
    "        acc_has_improved = current_val_acc_mean  > (self.best_val_acc_mean + self.acc_threshold)\n",
    "      \n",
    "        if (loss_has_improved or acc_has_improved):\n",
    "            \n",
    "            self.counter = 0 # reset counter\n",
    "            \n",
    "            self.best_val_loss_mean = np.min([current_val_loss_mean, self.best_val_loss_mean])\n",
    "            self.best_val_acc_mean = np.max([current_val_acc_mean, self.best_val_acc_mean])     \n",
    "            return True\n",
    "        \n",
    "        elif (self.counter > self.max_count):\n",
    "            return False\n",
    "        \n",
    "        else:\n",
    "            return True                               \n",
    "\n",
    "class TrainingStopper():\n",
    "    def __init__(self, max_epochs = 100 , hist_horizon = 20, is_improving = PerformanceImprover().is_improving):\n",
    "        self.max_epochs = max_epochs\n",
    "        self.hist_horizon = hist_horizon\n",
    "        self.current_epoch = 0\n",
    "        self.is_improving = is_improving\n",
    "        \n",
    "    def __str__(self):\n",
    "        return f\"\"\"Class Parameters:\\n\n",
    "                   Max Epochs: {self.max_epochs} \n",
    "                   History Horizon: {self.hist_horizon}\n",
    "                   Accuracy Threshold:{self.accuracy_threshold}\n",
    "                   Current Epoch:{self.current_epoch}\"\"\"\n",
    "        \n",
    "    def keep_training(self, val_loss, val_accuracy):  \n",
    "        if ( self.current_epoch >= self.max_epochs): # max epochs reached: stop training\n",
    "            print('Max Epochs reached')\n",
    "            return False\n",
    "        \n",
    "        self.current_epoch += 1\n",
    "        print(f\"EPOCH: {self.current_epoch}\")\n",
    "        \n",
    "        return self.is_improving(val_loss, val_accuracy)"
   ]
  },
  {
   "cell_type": "code",
   "execution_count": 130,
   "id": "4a975218",
   "metadata": {},
   "outputs": [],
   "source": [
    "def train_network_classification(net, train_loader, test_loader, optimizer, stopping_algorithm = TrainingStopper(), \n",
    "                                 criterion = F.cross_entropy):\n",
    "    \n",
    "    device = get_model_device(net)\n",
    "    train_loss_history, training_acc_hist  = list(), list()\n",
    "    val_loss_history, val_acc_hist = list(), list()\n",
    "    \n",
    "    num_train_samples = len(train_loader.dataset)\n",
    "    num_val_samples = len(test_loader.dataset)\n",
    "    \n",
    "    best_test_accuracy = 0.0\n",
    "    best_net_weights = net.state_dict()\n",
    "    \n",
    "    while stopping_algorithm.keep_training(val_loss_history, val_acc_hist):\n",
    "        \n",
    "        # training step\n",
    "        training_loss, num_corrected_samples_train = \\\n",
    "            train_net_on_data(train_loader, optimizer, net, device, criterion)\n",
    "        training_accuracy = num_corrected_samples_train / num_train_samples * 100.0\n",
    "        \n",
    "        train_loss_history.append(training_loss)\n",
    "        training_acc_hist.append(training_accuracy)\n",
    "        \n",
    "        # evaluation step\n",
    "        eval_loss, num_corrected_samples_test = eval_net_on_data(test_loader, net, device, criterion)\n",
    "        testing_accuracy = num_corrected_samples_test / num_val_samples * 100.0\n",
    "        \n",
    "        val_loss_history.append(eval_loss)\n",
    "        val_acc_hist.append(testing_accuracy)\n",
    "        \n",
    "        print(f'Training Accuracy: {training_accuracy:.4f}; Validation Accuracy: {testing_accuracy:.4f}')\n",
    "                \n",
    "        if testing_accuracy > best_test_accuracy:\n",
    "            \n",
    "            best_test_accuracy = testing_accuracy\n",
    "            \n",
    "            # Create a deep copy of the model's parameters, otherwise dict is stored by reference\n",
    "            best_net_weights = copy.deepcopy(net.state_dict())\n",
    "                \n",
    "#     # load the best net on test data\n",
    "    net.load_state_dict(best_net_weights)\n",
    "    \n",
    "    return net, (train_loss_history, training_acc_hist), (val_loss_history, val_acc_hist)"
   ]
  },
  {
   "cell_type": "markdown",
   "id": "3f608b6e",
   "metadata": {},
   "source": [
    "#### Hyperparameters not optimized (fixed)\n"
   ]
  },
  {
   "cell_type": "code",
   "execution_count": 131,
   "id": "27f3f371",
   "metadata": {},
   "outputs": [],
   "source": [
    "BATCH_SIZE = 64\n",
    "HIDDEN_NODES = (64,64)\n",
    "LEARNING_RATE = lr=0.00011"
   ]
  },
  {
   "cell_type": "code",
   "execution_count": 132,
   "id": "f116c3ee",
   "metadata": {},
   "outputs": [],
   "source": [
    "model = MNIST_MLP(HIDDEN_NODES)"
   ]
  },
  {
   "cell_type": "code",
   "execution_count": 133,
   "id": "5ca9cfde",
   "metadata": {},
   "outputs": [],
   "source": [
    "# current execution\n",
    "train_data_loaded , test_data_loaded = get_train_and_test_data_w_batch_size(BATCH_SIZE )\n",
    "\n",
    "# model creation (use CPU: faster for small networks)\n",
    "model = MNIST_MLP(HIDDEN_NODES)\n",
    "\n",
    "# create optimizer\n",
    "optimizer = optim.Adam(model.parameters(), lr=LEARNING_RATE)\n",
    "\n",
    "# algo_stopper = TrainingStopper(max_epochs=2)\n",
    "# print(algo_stopper)"
   ]
  },
  {
   "cell_type": "code",
   "execution_count": 134,
   "id": "0d71fc43",
   "metadata": {},
   "outputs": [
    {
     "name": "stdout",
     "output_type": "stream",
     "text": [
      "EPOCH: 1\n",
      "Training Accuracy: 81.9517; Validation Accuracy: 90.8400\n",
      "EPOCH: 2\n",
      "Training Accuracy: 91.2900; Validation Accuracy: 92.5200\n",
      "EPOCH: 3\n",
      "Training Accuracy: 92.6050; Validation Accuracy: 93.3900\n",
      "EPOCH: 4\n",
      "Training Accuracy: 93.5850; Validation Accuracy: 94.0900\n",
      "EPOCH: 5\n",
      "Training Accuracy: 94.3500; Validation Accuracy: 94.5800\n",
      "EPOCH: 6\n",
      "Training Accuracy: 94.9200; Validation Accuracy: 95.0900\n",
      "EPOCH: 7\n",
      "Training Accuracy: 95.4583; Validation Accuracy: 95.2900\n",
      "EPOCH: 8\n",
      "Training Accuracy: 95.8633; Validation Accuracy: 95.4200\n",
      "EPOCH: 9\n",
      "Training Accuracy: 96.1800; Validation Accuracy: 95.8200\n",
      "EPOCH: 10\n",
      "Training Accuracy: 96.4450; Validation Accuracy: 96.1600\n",
      "EPOCH: 11\n",
      "Training Accuracy: 96.7800; Validation Accuracy: 96.1700\n",
      "EPOCH: 12\n",
      "Training Accuracy: 96.9767; Validation Accuracy: 96.3700\n",
      "EPOCH: 13\n",
      "Training Accuracy: 97.1467; Validation Accuracy: 96.2300\n",
      "EPOCH: 14\n",
      "Training Accuracy: 97.3183; Validation Accuracy: 96.4100\n",
      "EPOCH: 15\n",
      "Training Accuracy: 97.4867; Validation Accuracy: 96.7100\n",
      "EPOCH: 16\n",
      "Training Accuracy: 97.6167; Validation Accuracy: 96.6900\n",
      "EPOCH: 17\n",
      "Training Accuracy: 97.7300; Validation Accuracy: 96.9600\n",
      "EPOCH: 18\n",
      "Training Accuracy: 97.8950; Validation Accuracy: 96.8900\n",
      "EPOCH: 19\n",
      "Training Accuracy: 98.0267; Validation Accuracy: 96.9700\n",
      "EPOCH: 20\n",
      "Training Accuracy: 98.1167; Validation Accuracy: 97.0700\n",
      "EPOCH: 21\n",
      "Training Accuracy: 98.2617; Validation Accuracy: 97.0600\n",
      "EPOCH: 22\n",
      "Training Accuracy: 98.2983; Validation Accuracy: 97.0900\n",
      "EPOCH: 23\n",
      "Training Accuracy: 98.4550; Validation Accuracy: 97.1600\n",
      "EPOCH: 24\n",
      "Training Accuracy: 98.5100; Validation Accuracy: 97.2900\n",
      "EPOCH: 25\n",
      "Training Accuracy: 98.5833; Validation Accuracy: 97.3100\n",
      "EPOCH: 26\n",
      "Training Accuracy: 98.6750; Validation Accuracy: 97.3200\n",
      "EPOCH: 27\n",
      "Training Accuracy: 98.7100; Validation Accuracy: 97.2200\n",
      "EPOCH: 28\n",
      "Training Accuracy: 98.8083; Validation Accuracy: 97.4100\n",
      "EPOCH: 29\n",
      "Training Accuracy: 98.8783; Validation Accuracy: 97.4500\n",
      "EPOCH: 30\n",
      "Training Accuracy: 98.9400; Validation Accuracy: 97.4700\n",
      "EPOCH: 31\n",
      "Training Accuracy: 99.0217; Validation Accuracy: 97.2800\n",
      "EPOCH: 32\n",
      "Training Accuracy: 99.0467; Validation Accuracy: 97.4300\n",
      "EPOCH: 33\n",
      "Training Accuracy: 99.1450; Validation Accuracy: 97.5300\n",
      "EPOCH: 34\n",
      "Training Accuracy: 99.1700; Validation Accuracy: 97.5700\n",
      "EPOCH: 35\n",
      "Training Accuracy: 99.2217; Validation Accuracy: 97.5800\n",
      "EPOCH: 36\n",
      "Training Accuracy: 99.2767; Validation Accuracy: 97.4800\n",
      "EPOCH: 37\n",
      "Training Accuracy: 99.3117; Validation Accuracy: 97.4900\n",
      "EPOCH: 38\n",
      "Training Accuracy: 99.3500; Validation Accuracy: 97.3900\n",
      "EPOCH: 39\n",
      "Training Accuracy: 99.3783; Validation Accuracy: 97.5500\n",
      "EPOCH: 40\n",
      "Training Accuracy: 99.4417; Validation Accuracy: 97.6600\n",
      "EPOCH: 41\n",
      "Training Accuracy: 99.4967; Validation Accuracy: 97.6200\n",
      "EPOCH: 42\n",
      "Training Accuracy: 99.4933; Validation Accuracy: 97.5600\n",
      "EPOCH: 43\n",
      "Training Accuracy: 99.5733; Validation Accuracy: 97.5800\n",
      "EPOCH: 44\n",
      "Training Accuracy: 99.5950; Validation Accuracy: 97.5200\n",
      "EPOCH: 45\n",
      "Training Accuracy: 99.6183; Validation Accuracy: 97.6300\n",
      "EPOCH: 46\n",
      "Training Accuracy: 99.6517; Validation Accuracy: 97.6600\n",
      "EPOCH: 47\n",
      "Training Accuracy: 99.7100; Validation Accuracy: 97.6000\n",
      "EPOCH: 48\n"
     ]
    }
   ],
   "source": [
    "model, (tr_loss, tr_acc), (val_loss, val_cc)= train_network_classification(model, train_data_loaded, test_data_loaded,optimizer)\n"
   ]
  },
  {
   "cell_type": "markdown",
   "id": "6c7b57f2",
   "metadata": {},
   "source": [
    "### Optimize hyperparameters with Optuna"
   ]
  },
  {
   "cell_type": "code",
   "execution_count": null,
   "id": "1ed05f88",
   "metadata": {},
   "outputs": [],
   "source": [
    "# inspired by https://github.com/optuna/optuna-examples/blob/main/pytorch/pytorch_simple.py\n",
    "\n",
    "def objective(trial):\n",
    "    # Generate the model.\n",
    "    model = define_model(trial).to(DEVICE)\n",
    "\n",
    "    # Generate the optimizers.\n",
    "    optimizer_name = trial.suggest_categorical(\"optimizer\", [\"Adam\", \"RMSprop\", \"SGD\"])\n",
    "    lr = trial.suggest_float(\"lr\", 1e-5, 1e-3, log=True)\n",
    "    optimizer = getattr(optim, optimizer_name)(model.parameters(), lr=lr)\n",
    "\n",
    "    # Get the FashionMNIST dataset.\n",
    "    train_loader, valid_loader = get_mnist()\n",
    "\n",
    "    # Training of the model.\n",
    "    for epoch in range(EPOCHS):\n",
    "        model.train()\n",
    "        for batch_idx, (data, target) in enumerate(train_loader):\n",
    "            # Limiting training data for faster epochs.\n",
    "            if batch_idx * BATCHSIZE >= N_TRAIN_EXAMPLES:\n",
    "                break\n",
    "\n",
    "            data, target = data.view(data.size(0), -1).to(DEVICE), target.to(DEVICE)\n",
    "\n",
    "            optimizer.zero_grad()\n",
    "            output = model(data)\n",
    "            loss = F.nll_loss(output, target)\n",
    "            loss.backward()\n",
    "            optimizer.step()\n",
    "\n",
    "        # Validation of the model.\n",
    "        model.eval()\n",
    "        correct = 0\n",
    "        with torch.no_grad():\n",
    "            for batch_idx, (data, target) in enumerate(valid_loader):\n",
    "                # Limiting validation data.\n",
    "                if batch_idx * BATCHSIZE >= N_VALID_EXAMPLES:\n",
    "                    break\n",
    "                data, target = data.view(data.size(0), -1).to(DEVICE), target.to(DEVICE)\n",
    "                output = model(data)\n",
    "                # Get the index of the max log-probability.\n",
    "                pred = output.argmax(dim=1, keepdim=True)\n",
    "                correct += pred.eq(target.view_as(pred)).sum().item()\n",
    "\n",
    "        accuracy = correct / min(len(valid_loader.dataset), N_VALID_EXAMPLES)\n",
    "\n",
    "        trial.report(accuracy, epoch)\n",
    "\n",
    "        # Handle pruning based on the intermediate value.\n",
    "        if trial.should_prune():\n",
    "            raise optuna.exceptions.TrialPruned()\n",
    "\n",
    "    return accuracy"
   ]
  },
  {
   "cell_type": "markdown",
   "id": "5fe0a68f",
   "metadata": {},
   "source": [
    "### Get use of HW acceleration, if available\n"
   ]
  },
  {
   "cell_type": "code",
   "execution_count": null,
   "id": "f33d4f9a",
   "metadata": {},
   "outputs": [],
   "source": [
    "def get_HW_acceleration_if_available():\n",
    "    try:\n",
    "        if torch.backends.mps.is_available():\n",
    "            return 'mps'\n",
    "    except AttributeError:\n",
    "        pass\n",
    "        \n",
    "    if torch.cuda.is_available():\n",
    "        return 'cuda'\n",
    "    \n",
    "    return 'cpu'"
   ]
  },
  {
   "cell_type": "code",
   "execution_count": null,
   "id": "42c72182",
   "metadata": {},
   "outputs": [],
   "source": []
  },
  {
   "cell_type": "code",
   "execution_count": null,
   "id": "9abe4cf5",
   "metadata": {},
   "outputs": [],
   "source": [
    "device = get_HW_acceleration_if_available()"
   ]
  },
  {
   "cell_type": "code",
   "execution_count": null,
   "id": "5b05bb12",
   "metadata": {},
   "outputs": [],
   "source": [
    "model.to(device)"
   ]
  },
  {
   "cell_type": "code",
   "execution_count": null,
   "id": "6d5dec09",
   "metadata": {},
   "outputs": [],
   "source": []
  },
  {
   "cell_type": "markdown",
   "id": "29ad3215",
   "metadata": {},
   "source": [
    "### Try with Resnet"
   ]
  },
  {
   "cell_type": "code",
   "execution_count": null,
   "id": "1078c4c9",
   "metadata": {},
   "outputs": [],
   "source": [
    "import torch\n",
    "\n",
    "\n",
    "# Load a pre-trained ResNet-18 model\n",
    "resnet = (models.resnet18(pretrained=True)).to('mps')\n"
   ]
  },
  {
   "cell_type": "code",
   "execution_count": null,
   "id": "d9e30de6",
   "metadata": {},
   "outputs": [],
   "source": [
    "import torch.nn as nn\n",
    "\n",
    "# Modify the first convolutional layer to accept 1 input channel\n",
    "# The original input channels were 3 (RGB), change it to 1\n",
    "resnet.conv1 = (nn.Conv2d(1, 64, kernel_size=7, stride=2, padding=3, bias=False)).to('mps')\n"
   ]
  },
  {
   "cell_type": "code",
   "execution_count": null,
   "id": "6305f032",
   "metadata": {},
   "outputs": [],
   "source": [
    "num_classes = 10  # MNIST has 10 classes (digits 0-9)\n",
    "resnet.fc = (nn.Linear(resnet.fc.in_features, num_classes)).to('mps')\n"
   ]
  },
  {
   "cell_type": "code",
   "execution_count": null,
   "id": "39d8b280",
   "metadata": {},
   "outputs": [],
   "source": [
    "algo_stopper = TrainingStopper(max_epochs=1)\n"
   ]
  },
  {
   "cell_type": "code",
   "execution_count": null,
   "id": "3929a3b6",
   "metadata": {},
   "outputs": [],
   "source": [
    "%%time\n",
    "train_network_classification(resnet, train_data_loaded, test_data_loaded, algo_stopper, optim.Adam(resnet.parameters(), lr= 0.00045), criterion=F.cross_entropy, device='mps')\n"
   ]
  }
 ],
 "metadata": {
  "kernelspec": {
   "display_name": "Python 3 (ipykernel)",
   "language": "python",
   "name": "python3"
  },
  "language_info": {
   "codemirror_mode": {
    "name": "ipython",
    "version": 3
   },
   "file_extension": ".py",
   "mimetype": "text/x-python",
   "name": "python",
   "nbconvert_exporter": "python",
   "pygments_lexer": "ipython3",
   "version": "3.8.17"
  }
 },
 "nbformat": 4,
 "nbformat_minor": 5
}
