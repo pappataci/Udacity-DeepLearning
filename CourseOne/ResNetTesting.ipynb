{
 "cells": [
  {
   "cell_type": "code",
   "execution_count": 3,
   "id": "5e4ff3f2",
   "metadata": {},
   "outputs": [
    {
     "data": {
      "text/plain": [
       "<torch._C.Generator at 0x117d4f6d0>"
      ]
     },
     "execution_count": 3,
     "metadata": {},
     "output_type": "execute_result"
    }
   ],
   "source": [
    "# ## This cell contains the essential imports you will need – DO NOT CHANGE THE CONTENTS! ##\n",
    "# # src: MNIST_Handwritten_Digits_STARTER.ipynb\n",
    "import torch\n",
    "from torchvision import datasets\n",
    "import torchvision.transforms as transforms\n",
    "import torch.optim as optim\n",
    "import torch.nn as nn\n",
    "\n",
    "from MNIST_solver import eval_net_on_data\n",
    "from MNIST_solver import create_panel_of_consecutive_ex_images, get_max_n_normalized_mean_n_std\n",
    "from MNIST_solver import get_train_and_test_data_w_batch_size, MNIST_MLP, eval_net_on_data\n",
    "from MNIST_solver import PerformanceImprover, TrainingStopper, train_network_classification\n",
    "from MNIST_solver import define_objective_fcn_with_params\n",
    "from MNIST_solver import get_model_device , get_HW_acceleration_if_available\n",
    "\n",
    "\n",
    "# Additional optimizer for tuning the hyper-parameters\n",
    "# src: https://optuna.org\n",
    "import optuna\n",
    "import numpy as np\n",
    "import torchvision.models as models\n",
    "\n",
    "torch_seed = 11\n",
    "torch.manual_seed(torch_seed)"
   ]
  },
  {
   "cell_type": "code",
   "execution_count": 4,
   "id": "0668d009",
   "metadata": {},
   "outputs": [],
   "source": [
    "data_folder = r'./data'\n",
    "train_raw = datasets.MNIST(root=data_folder, train=True, download = True, transform=None)\n",
    "test_raw =  datasets.MNIST(root=data_folder, train=False,download = True, transform=None)\n",
    "\n",
    "max_data_value, img_mean, img_std = get_max_n_normalized_mean_n_std(train_raw)\n",
    "transform_pipeline = transforms.Compose([transforms.ToTensor(), \n",
    "                                transforms.Normalize((img_mean,), (img_std,))\n",
    "                               ])\n",
    "# Transformed data (to be used by the network)\n",
    "train_data = datasets.MNIST(root=data_folder, train=True,  download = False, transform=transform_pipeline )\n",
    "test_data =  datasets.MNIST(root=data_folder, train=False, download = False, transform=transform_pipeline)\n",
    "\n",
    "_, img_rows, img_cols = (train_data.data.numpy().shape)\n",
    "network_input_dim = img_rows * img_cols"
   ]
  },
  {
   "cell_type": "code",
   "execution_count": 5,
   "id": "9ab7c54f",
   "metadata": {},
   "outputs": [],
   "source": [
    "BATCH_SIZE = 64 # cannot be changed unless the architecture of resnet is changed\n",
    "LEARNING_RATE = 0.00045\n",
    "\n",
    "train_data_loaded , test_data_loaded = get_train_and_test_data_w_batch_size(BATCH_SIZE , train_data, test_data)"
   ]
  },
  {
   "cell_type": "code",
   "execution_count": null,
   "id": "2fcd030b",
   "metadata": {},
   "outputs": [],
   "source": [
    "# create the network\n",
    "# Load a pre-trained ResNet-18 model\n",
    "resnet = models.resnet18(weights='ResNet18_Weights.DEFAULT')\n",
    "\n",
    "# resnet = models.resnet18(pretrained=True)"
   ]
  },
  {
   "cell_type": "code",
   "execution_count": null,
   "id": "2ec0ec24",
   "metadata": {},
   "outputs": [],
   "source": [
    "resnet.conv1 = nn.Conv2d(1, BATCH_SIZE, kernel_size=7, stride=2, padding=3, bias=False)\n",
    "num_classes = 10  # MNIST has 10 classes (digits 0-9)\n",
    "resnet.fc = nn.Linear(resnet.fc.in_features, num_classes)"
   ]
  },
  {
   "cell_type": "code",
   "execution_count": null,
   "id": "3e9ff912",
   "metadata": {},
   "outputs": [],
   "source": [
    "# device = get_HW_acceleration_if_available()\n",
    "# resnet.to(device)"
   ]
  },
  {
   "cell_type": "code",
   "execution_count": null,
   "id": "c5acc2d8",
   "metadata": {},
   "outputs": [],
   "source": [
    "optimizer = optim.Adam(resnet.parameters(), lr= LEARNING_RATE)\n",
    "# from MNIST_solver import train_net_on_data"
   ]
  },
  {
   "cell_type": "code",
   "execution_count": null,
   "id": "15b40890",
   "metadata": {},
   "outputs": [],
   "source": [
    "import torch.nn.functional as F\n",
    "criterion=F.cross_entropy"
   ]
  },
  {
   "cell_type": "code",
   "execution_count": null,
   "id": "b309eb7d",
   "metadata": {},
   "outputs": [],
   "source": [
    "train_loader, test_loader = get_train_and_test_data_w_batch_size(BATCH_SIZE, train_data, test_data)"
   ]
  },
  {
   "cell_type": "code",
   "execution_count": null,
   "id": "170053ec",
   "metadata": {},
   "outputs": [],
   "source": [
    "train_loss_history, training_acc_hist = list(), list()\n",
    "val_loss_history, val_acc_hist = list(), list()\n",
    "num_train_samples = len(train_loader.dataset)\n",
    "num_val_samples = len(test_loader.dataset)"
   ]
  },
  {
   "cell_type": "code",
   "execution_count": null,
   "id": "6e255780",
   "metadata": {},
   "outputs": [],
   "source": [
    "net = resnet\n",
    "best_test_accuracy = 0.0\n",
    "best_net_weights = net.state_dict()"
   ]
  },
  {
   "cell_type": "code",
   "execution_count": null,
   "id": "d150d3d1",
   "metadata": {},
   "outputs": [],
   "source": [
    "net.train()"
   ]
  },
  {
   "cell_type": "code",
   "execution_count": null,
   "id": "72acf997",
   "metadata": {},
   "outputs": [],
   "source": [
    "def training_step(loss, optimizer):\n",
    "    # init gradient\n",
    "    optimizer.zero_grad()\n",
    "\n",
    "    # compute gradient\n",
    "    loss.backward()\n",
    "\n",
    "    # update the model's weights\n",
    "    optimizer.step()\n",
    "    return loss\n",
    "\n",
    "import torch.nn.functional as F\n",
    "criterion=F.cross_entropy"
   ]
  },
  {
   "cell_type": "code",
   "execution_count": null,
   "id": "79979fc3",
   "metadata": {},
   "outputs": [],
   "source": [
    "from MNIST_solver import process_all_data_from_loader_n_get_metrics"
   ]
  },
  {
   "cell_type": "code",
   "execution_count": null,
   "id": "717c7cbe",
   "metadata": {},
   "outputs": [],
   "source": [
    "model = resnet\n",
    "device = get_model_device(model)"
   ]
  },
  {
   "cell_type": "code",
   "execution_count": null,
   "id": "3a3266e7",
   "metadata": {},
   "outputs": [],
   "source": [
    "running_loss = 0.0\n",
    "train_correct = 0  # i"
   ]
  },
  {
   "cell_type": "code",
   "execution_count": null,
   "id": "3cfa3e73",
   "metadata": {},
   "outputs": [],
   "source": [
    "input_out = [data for data in train_loader]"
   ]
  },
  {
   "cell_type": "code",
   "execution_count": null,
   "id": "6b8e14f0",
   "metadata": {},
   "outputs": [],
   "source": [
    "input_ , label_ = input_out[0]"
   ]
  },
  {
   "cell_type": "code",
   "execution_count": null,
   "id": "a58d4830",
   "metadata": {},
   "outputs": [],
   "source": [
    "input_, label_ = input_.to(device), label_.to(device)"
   ]
  },
  {
   "cell_type": "code",
   "execution_count": null,
   "id": "1948124b",
   "metadata": {},
   "outputs": [],
   "source": [
    "# loss = criterion(output, label_)"
   ]
  },
  {
   "cell_type": "code",
   "execution_count": null,
   "id": "f37006bf",
   "metadata": {},
   "outputs": [],
   "source": [
    "output.shape"
   ]
  },
  {
   "cell_type": "code",
   "execution_count": null,
   "id": "791dde54",
   "metadata": {},
   "outputs": [],
   "source": [
    "preds"
   ]
  },
  {
   "cell_type": "code",
   "execution_count": 1,
   "id": "2cb9ab33",
   "metadata": {},
   "outputs": [],
   "source": [
    "# this code has been adapted from the suggestions made by chatGPT version 3.5, searching for transfer learning\n",
    "\n",
    "import torch.nn as nn\n",
    "import torch.nn.functional as F\n",
    "import torchvision.models as models\n",
    "\n",
    "class ResNetForMNIST(nn.Module):\n",
    "    def __init__(self, resnet):\n",
    "        super(ResNetForMNIST, self).__init__()\n",
    "        \n",
    "        self.resnet = resnet\n",
    "        \n",
    "        self.freeze_all_layers_but_lastone()\n",
    "        \n",
    "        self.resnet.conv1 = nn.Conv2d(1, 64, kernel_size=7, stride=2, padding=3, bias=False)\n",
    "\n",
    "        self.softmax = nn.Softmax(dim=1)  # Apply softmax along the dimension of classes\n",
    "        \n",
    "        \n",
    "        \n",
    "    def freeze_all_layers(self):\n",
    "        \n",
    "        for param in self.resnet.parameters():\n",
    "            param.requires_grad = False\n",
    "            resnet.fc.requires_grad = True\n",
    "\n",
    "    def forward(self, x):\n",
    "        logits = self.resnet(x)\n",
    "        probabilities = self.softmax(logits)\n",
    "        \n",
    "        # Use torch.max to get the most likely class\n",
    "        max_values, predicted_class = torch.max(probabilities, dim=1)\n",
    "        return logits, probabilities, predicted_class\n",
    "\n",
    "# Load the pre-trained ResNet-18 model\n",
    "resnet = models.resnet18(weights='ResNet18_Weights.DEFAULT')\n",
    "\n",
    "# Freeze layers as needed\n",
    "# ...\n",
    "\n",
    "# Modify the final classification layer to output raw scores (logits)\n",
    "num_classes = 10\n",
    "resnet.fc = nn.Linear(resnet.fc.in_features, num_classes)\n",
    "\n",
    "# Create the modified model\n",
    "model = ResNetForMNIST(resnet)"
   ]
  },
  {
   "cell_type": "code",
   "execution_count": 2,
   "id": "aada17e5",
   "metadata": {},
   "outputs": [
    {
     "data": {
      "text/plain": [
       "ResNetForMNIST(\n",
       "  (resnet): ResNet(\n",
       "    (conv1): Conv2d(1, 64, kernel_size=(7, 7), stride=(2, 2), padding=(3, 3), bias=False)\n",
       "    (bn1): BatchNorm2d(64, eps=1e-05, momentum=0.1, affine=True, track_running_stats=True)\n",
       "    (relu): ReLU(inplace=True)\n",
       "    (maxpool): MaxPool2d(kernel_size=3, stride=2, padding=1, dilation=1, ceil_mode=False)\n",
       "    (layer1): Sequential(\n",
       "      (0): BasicBlock(\n",
       "        (conv1): Conv2d(64, 64, kernel_size=(3, 3), stride=(1, 1), padding=(1, 1), bias=False)\n",
       "        (bn1): BatchNorm2d(64, eps=1e-05, momentum=0.1, affine=True, track_running_stats=True)\n",
       "        (relu): ReLU(inplace=True)\n",
       "        (conv2): Conv2d(64, 64, kernel_size=(3, 3), stride=(1, 1), padding=(1, 1), bias=False)\n",
       "        (bn2): BatchNorm2d(64, eps=1e-05, momentum=0.1, affine=True, track_running_stats=True)\n",
       "      )\n",
       "      (1): BasicBlock(\n",
       "        (conv1): Conv2d(64, 64, kernel_size=(3, 3), stride=(1, 1), padding=(1, 1), bias=False)\n",
       "        (bn1): BatchNorm2d(64, eps=1e-05, momentum=0.1, affine=True, track_running_stats=True)\n",
       "        (relu): ReLU(inplace=True)\n",
       "        (conv2): Conv2d(64, 64, kernel_size=(3, 3), stride=(1, 1), padding=(1, 1), bias=False)\n",
       "        (bn2): BatchNorm2d(64, eps=1e-05, momentum=0.1, affine=True, track_running_stats=True)\n",
       "      )\n",
       "    )\n",
       "    (layer2): Sequential(\n",
       "      (0): BasicBlock(\n",
       "        (conv1): Conv2d(64, 128, kernel_size=(3, 3), stride=(2, 2), padding=(1, 1), bias=False)\n",
       "        (bn1): BatchNorm2d(128, eps=1e-05, momentum=0.1, affine=True, track_running_stats=True)\n",
       "        (relu): ReLU(inplace=True)\n",
       "        (conv2): Conv2d(128, 128, kernel_size=(3, 3), stride=(1, 1), padding=(1, 1), bias=False)\n",
       "        (bn2): BatchNorm2d(128, eps=1e-05, momentum=0.1, affine=True, track_running_stats=True)\n",
       "        (downsample): Sequential(\n",
       "          (0): Conv2d(64, 128, kernel_size=(1, 1), stride=(2, 2), bias=False)\n",
       "          (1): BatchNorm2d(128, eps=1e-05, momentum=0.1, affine=True, track_running_stats=True)\n",
       "        )\n",
       "      )\n",
       "      (1): BasicBlock(\n",
       "        (conv1): Conv2d(128, 128, kernel_size=(3, 3), stride=(1, 1), padding=(1, 1), bias=False)\n",
       "        (bn1): BatchNorm2d(128, eps=1e-05, momentum=0.1, affine=True, track_running_stats=True)\n",
       "        (relu): ReLU(inplace=True)\n",
       "        (conv2): Conv2d(128, 128, kernel_size=(3, 3), stride=(1, 1), padding=(1, 1), bias=False)\n",
       "        (bn2): BatchNorm2d(128, eps=1e-05, momentum=0.1, affine=True, track_running_stats=True)\n",
       "      )\n",
       "    )\n",
       "    (layer3): Sequential(\n",
       "      (0): BasicBlock(\n",
       "        (conv1): Conv2d(128, 256, kernel_size=(3, 3), stride=(2, 2), padding=(1, 1), bias=False)\n",
       "        (bn1): BatchNorm2d(256, eps=1e-05, momentum=0.1, affine=True, track_running_stats=True)\n",
       "        (relu): ReLU(inplace=True)\n",
       "        (conv2): Conv2d(256, 256, kernel_size=(3, 3), stride=(1, 1), padding=(1, 1), bias=False)\n",
       "        (bn2): BatchNorm2d(256, eps=1e-05, momentum=0.1, affine=True, track_running_stats=True)\n",
       "        (downsample): Sequential(\n",
       "          (0): Conv2d(128, 256, kernel_size=(1, 1), stride=(2, 2), bias=False)\n",
       "          (1): BatchNorm2d(256, eps=1e-05, momentum=0.1, affine=True, track_running_stats=True)\n",
       "        )\n",
       "      )\n",
       "      (1): BasicBlock(\n",
       "        (conv1): Conv2d(256, 256, kernel_size=(3, 3), stride=(1, 1), padding=(1, 1), bias=False)\n",
       "        (bn1): BatchNorm2d(256, eps=1e-05, momentum=0.1, affine=True, track_running_stats=True)\n",
       "        (relu): ReLU(inplace=True)\n",
       "        (conv2): Conv2d(256, 256, kernel_size=(3, 3), stride=(1, 1), padding=(1, 1), bias=False)\n",
       "        (bn2): BatchNorm2d(256, eps=1e-05, momentum=0.1, affine=True, track_running_stats=True)\n",
       "      )\n",
       "    )\n",
       "    (layer4): Sequential(\n",
       "      (0): BasicBlock(\n",
       "        (conv1): Conv2d(256, 512, kernel_size=(3, 3), stride=(2, 2), padding=(1, 1), bias=False)\n",
       "        (bn1): BatchNorm2d(512, eps=1e-05, momentum=0.1, affine=True, track_running_stats=True)\n",
       "        (relu): ReLU(inplace=True)\n",
       "        (conv2): Conv2d(512, 512, kernel_size=(3, 3), stride=(1, 1), padding=(1, 1), bias=False)\n",
       "        (bn2): BatchNorm2d(512, eps=1e-05, momentum=0.1, affine=True, track_running_stats=True)\n",
       "        (downsample): Sequential(\n",
       "          (0): Conv2d(256, 512, kernel_size=(1, 1), stride=(2, 2), bias=False)\n",
       "          (1): BatchNorm2d(512, eps=1e-05, momentum=0.1, affine=True, track_running_stats=True)\n",
       "        )\n",
       "      )\n",
       "      (1): BasicBlock(\n",
       "        (conv1): Conv2d(512, 512, kernel_size=(3, 3), stride=(1, 1), padding=(1, 1), bias=False)\n",
       "        (bn1): BatchNorm2d(512, eps=1e-05, momentum=0.1, affine=True, track_running_stats=True)\n",
       "        (relu): ReLU(inplace=True)\n",
       "        (conv2): Conv2d(512, 512, kernel_size=(3, 3), stride=(1, 1), padding=(1, 1), bias=False)\n",
       "        (bn2): BatchNorm2d(512, eps=1e-05, momentum=0.1, affine=True, track_running_stats=True)\n",
       "      )\n",
       "    )\n",
       "    (avgpool): AdaptiveAvgPool2d(output_size=(1, 1))\n",
       "    (fc): Linear(in_features=512, out_features=10, bias=True)\n",
       "  )\n",
       "  (softmax): Softmax(dim=1)\n",
       ")"
      ]
     },
     "execution_count": 2,
     "metadata": {},
     "output_type": "execute_result"
    }
   ],
   "source": [
    "model.to('mps')"
   ]
  },
  {
   "cell_type": "code",
   "execution_count": null,
   "id": "d0fd130a",
   "metadata": {},
   "outputs": [],
   "source": [
    "_ , __ , OUT = model(input_)"
   ]
  },
  {
   "cell_type": "code",
   "execution_count": null,
   "id": "7b81ca64",
   "metadata": {},
   "outputs": [],
   "source": [
    "a = set()"
   ]
  },
  {
   "cell_type": "code",
   "execution_count": null,
   "id": "cec1fbe0",
   "metadata": {},
   "outputs": [],
   "source": [
    "a.add(3)"
   ]
  },
  {
   "cell_type": "code",
   "execution_count": null,
   "id": "79ff7d34",
   "metadata": {},
   "outputs": [],
   "source": [
    "a"
   ]
  },
  {
   "cell_type": "code",
   "execution_count": null,
   "id": "7635f1ce",
   "metadata": {},
   "outputs": [],
   "source": []
  }
 ],
 "metadata": {
  "kernelspec": {
   "display_name": "Python 3 (ipykernel)",
   "language": "python",
   "name": "python3"
  },
  "language_info": {
   "codemirror_mode": {
    "name": "ipython",
    "version": 3
   },
   "file_extension": ".py",
   "mimetype": "text/x-python",
   "name": "python",
   "nbconvert_exporter": "python",
   "pygments_lexer": "ipython3",
   "version": "3.8.17"
  }
 },
 "nbformat": 4,
 "nbformat_minor": 5
}
