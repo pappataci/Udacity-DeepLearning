{
 "cells": [
  {
   "cell_type": "code",
   "execution_count": 22,
   "id": "5e4ff3f2",
   "metadata": {},
   "outputs": [
    {
     "data": {
      "text/plain": [
       "<torch._C.Generator at 0x1155e1710>"
      ]
     },
     "execution_count": 22,
     "metadata": {},
     "output_type": "execute_result"
    }
   ],
   "source": [
    "# ## This cell contains the essential imports you will need – DO NOT CHANGE THE CONTENTS! ##\n",
    "# # src: MNIST_Handwritten_Digits_STARTER.ipynb\n",
    "import torch\n",
    "from torchvision import datasets\n",
    "import torchvision.transforms as transforms\n",
    "import torch.optim as optim\n",
    "import torch.nn as nn\n",
    "\n",
    "from MNIST_solver import eval_net_on_data\n",
    "from MNIST_solver import get_max_n_normalized_mean_n_std\n",
    "from MNIST_solver import get_train_and_test_data_w_batch_size, MNIST_MLP, eval_net_on_data\n",
    "from MNIST_solver import PerformanceImprover, TrainingStopper, train_network_classification\n",
    "from MNIST_solver import define_objective_fcn_with_params\n",
    "from MNIST_solver import get_model_device , get_HW_acceleration_if_available\n",
    "from MNIST_solver import PerformanceImprover, TrainingStopper\n",
    "\n",
    "import torch.nn.functional as F\n",
    "import torchvision.models as models\n",
    "\n",
    "# Additional optimizer for tuning the hyper-parameters\n",
    "# src: https://optuna.org\n",
    "import optuna\n",
    "import numpy as np\n",
    "import torchvision.models as models\n",
    "\n",
    "torch_seed = 11\n",
    "torch.manual_seed(torch_seed)"
   ]
  },
  {
   "cell_type": "code",
   "execution_count": 23,
   "id": "0668d009",
   "metadata": {},
   "outputs": [],
   "source": [
    "data_folder = r'./data'\n",
    "train_raw = datasets.MNIST(root=data_folder, train=True, download = True, transform=None)\n",
    "test_raw =  datasets.MNIST(root=data_folder, train=False,download = True, transform=None)\n",
    "\n",
    "max_data_value, img_mean, img_std = get_max_n_normalized_mean_n_std(train_raw)\n",
    "transform_pipeline = transforms.Compose([transforms.ToTensor(), \n",
    "                                transforms.Normalize((img_mean,), (img_std,))\n",
    "                               ])\n",
    "# Transformed data (to be used by the network)\n",
    "train_data = datasets.MNIST(root=data_folder, train=True,  download = False, transform=transform_pipeline )\n",
    "test_data =  datasets.MNIST(root=data_folder, train=False, download = False, transform=transform_pipeline)\n",
    "\n",
    "_, img_rows, img_cols = (train_data.data.numpy().shape)\n",
    "network_input_dim = img_rows * img_cols"
   ]
  },
  {
   "cell_type": "code",
   "execution_count": 25,
   "id": "b309eb7d",
   "metadata": {},
   "outputs": [],
   "source": [
    "BATCH_SIZE = 64 # cannot be changed unless the architecture of resnet is change\n",
    "\n",
    "train_loader, test_loader = get_train_and_test_data_w_batch_size(BATCH_SIZE, train_data, test_data)"
   ]
  },
  {
   "cell_type": "code",
   "execution_count": 4,
   "id": "2cb9ab33",
   "metadata": {},
   "outputs": [],
   "source": [
    "# this code has been adapted from the suggestions made by chatGPT version 3.5, searching for transfer learning.\n",
    "# Freezing internal parameters results in poor performance (?), so I have decided not to freeze internal layers\n",
    "\n",
    "\n",
    "class ResNetForMNIST(nn.Module):\n",
    "    def __init__(self, resnet, internal_params_frozen = False):\n",
    "        super(ResNetForMNIST, self).__init__()\n",
    "        \n",
    "        self.resnet = resnet\n",
    "        self.internal_params_frozen = internal_params_frozen\n",
    "        self.resnet.conv1 = nn.Conv2d(1, 64, kernel_size=7, stride=2, padding=3, bias=False)\n",
    "        self.softmax = F.log_softmax  # Apply softmax along the dimension of classes\n",
    "        \n",
    "        if (self.internal_params_frozen):\n",
    "            freeze_all_layers_but_lastone()\n",
    "        \n",
    "        \n",
    "    def freeze_all_layers_but_lastone(self):\n",
    "        for param in self.resnet.parameters():\n",
    "            param.requires_grad = False\n",
    "            resnet.fc.requires_grad = True\n",
    "\n",
    "    def forward(self, x):\n",
    "        logits = self.resnet(x)\n",
    "        probabilities = self.softmax(logits, dim = 1)\n",
    "        \n",
    "        # Use torch.max to get the most likely class\n",
    "        return probabilities\n",
    "\n",
    "\n",
    "def create_model():\n",
    "    # Load the pre-trained ResNet-18 model\n",
    "    resnet = models.resnet18(weights='ResNet18_Weights.DEFAULT')\n",
    "\n",
    "    # Modify the final classification layer to output raw scores (logits)\n",
    "    num_classes = 10\n",
    "    resnet.fc = nn.Linear(resnet.fc.in_features, num_classes)\n",
    "\n",
    "    # Create the modified model\n",
    "    model = ResNetForMNIST(resnet)\n",
    "    device = get_HW_acceleration_if_available()\n",
    "    model.to(device)\n",
    "    return model"
   ]
  },
  {
   "cell_type": "code",
   "execution_count": 8,
   "id": "72ae54af",
   "metadata": {},
   "outputs": [],
   "source": [
    "def objective_function(trial):\n",
    "    LEARNING_RATE = trial.suggest_float(\"lr\", 1e-5, 1e-2, log=True)\n",
    "\n",
    "    # create the model\n",
    "    model = create_model()\n",
    "    \n",
    "    optimizer = optim.Adam(model.parameters(), lr=LEARNING_RATE)\n",
    "    \n",
    "    improver = PerformanceImprover().is_improving\n",
    "    stopping_algo = TrainingStopper(improver)\n",
    "    \n",
    "    model, (_, _), (val_loss, val_acc) = \\\n",
    "        train_network_classification(model, train_loader, test_loader, optimizer, stopping_algo)\n",
    "    \n",
    "    best_accuracy = np.max(val_acc)\n",
    "    \n",
    "    if best_accuracy > trial.user_attrs.get(\"best_accuracy\", -1.0):\n",
    "        trial.set_user_attr(\"best_accuracy\", best_accuracy)\n",
    "        trial.set_user_attr(\"best_state_dict\", model.state_dict())\n",
    "\n",
    "    return best_accuracy    "
   ]
  },
  {
   "cell_type": "code",
   "execution_count": 9,
   "id": "64b374fe",
   "metadata": {},
   "outputs": [
    {
     "name": "stderr",
     "output_type": "stream",
     "text": [
      "[I 2023-10-17 12:34:55,281] A new study created in memory with name: no-name-785bf80a-8259-4772-bede-df77bca55a6b\n"
     ]
    }
   ],
   "source": [
    "study = optuna.create_study(direction='maximize')  # Change 'maximize' to 'minimize' for different objectives"
   ]
  },
  {
   "cell_type": "code",
   "execution_count": 10,
   "id": "a6f5e55f",
   "metadata": {},
   "outputs": [
    {
     "name": "stdout",
     "output_type": "stream",
     "text": [
      "EPOCH: 1\n",
      "Training Accuracy: 94.2333; Validation Accuracy: 97.5500\n",
      "EPOCH: 2\n",
      "Training Accuracy: 98.1300; Validation Accuracy: 98.5900\n",
      "EPOCH: 3\n",
      "Training Accuracy: 98.7000; Validation Accuracy: 98.7900\n",
      "EPOCH: 4\n",
      "Training Accuracy: 98.8300; Validation Accuracy: 98.9200\n",
      "EPOCH: 5\n",
      "Training Accuracy: 99.0650; Validation Accuracy: 98.9000\n",
      "EPOCH: 6\n",
      "Training Accuracy: 99.1667; Validation Accuracy: 99.2700\n",
      "EPOCH: 7\n",
      "Training Accuracy: 99.3083; Validation Accuracy: 99.2200\n",
      "EPOCH: 8\n",
      "Training Accuracy: 99.2833; Validation Accuracy: 98.8000\n",
      "EPOCH: 9\n",
      "Training Accuracy: 99.4400; Validation Accuracy: 99.1600\n",
      "EPOCH: 10\n",
      "Training Accuracy: 99.4567; Validation Accuracy: 99.0700\n",
      "EPOCH: 11\n",
      "Training Accuracy: 99.5517; Validation Accuracy: 98.9900\n",
      "EPOCH: 12\n",
      "Training Accuracy: 99.5433; Validation Accuracy: 99.0600\n",
      "EPOCH: 13\n"
     ]
    },
    {
     "name": "stderr",
     "output_type": "stream",
     "text": [
      "[I 2023-10-17 12:43:29,545] Trial 0 finished with value: 99.3499984741211 and parameters: {'lr': 0.0003501125788634786}. Best is trial 0 with value: 99.3499984741211.\n"
     ]
    },
    {
     "name": "stdout",
     "output_type": "stream",
     "text": [
      "Training Accuracy: 99.6200; Validation Accuracy: 99.3500\n",
      "EPOCH: 14\n",
      "EPOCH: 1\n",
      "Training Accuracy: 87.1950; Validation Accuracy: 96.5400\n",
      "EPOCH: 2\n",
      "Training Accuracy: 96.7950; Validation Accuracy: 97.7300\n",
      "EPOCH: 3\n",
      "Training Accuracy: 98.0250; Validation Accuracy: 97.9700\n",
      "EPOCH: 4\n",
      "Training Accuracy: 98.5533; Validation Accuracy: 98.2900\n",
      "EPOCH: 5\n",
      "Training Accuracy: 98.9400; Validation Accuracy: 98.1800\n",
      "EPOCH: 6\n",
      "Training Accuracy: 99.1483; Validation Accuracy: 98.4000\n",
      "EPOCH: 7\n",
      "Training Accuracy: 99.2900; Validation Accuracy: 98.6400\n",
      "EPOCH: 8\n",
      "Training Accuracy: 99.3483; Validation Accuracy: 98.5800\n",
      "EPOCH: 9\n",
      "Training Accuracy: 99.5067; Validation Accuracy: 98.3500\n",
      "EPOCH: 10\n",
      "Training Accuracy: 99.4950; Validation Accuracy: 98.7800\n",
      "EPOCH: 11\n",
      "Training Accuracy: 99.5967; Validation Accuracy: 98.8200\n",
      "EPOCH: 12\n",
      "Training Accuracy: 99.6233; Validation Accuracy: 98.7000\n",
      "EPOCH: 13\n",
      "Training Accuracy: 99.6300; Validation Accuracy: 98.8000\n",
      "EPOCH: 14\n",
      "Training Accuracy: 99.7033; Validation Accuracy: 98.8200\n",
      "EPOCH: 15\n",
      "Training Accuracy: 99.6433; Validation Accuracy: 98.6600\n",
      "EPOCH: 16\n",
      "Training Accuracy: 99.7500; Validation Accuracy: 98.7600\n",
      "EPOCH: 17\n",
      "Training Accuracy: 99.7800; Validation Accuracy: 98.9100\n",
      "EPOCH: 18\n",
      "Training Accuracy: 99.7500; Validation Accuracy: 98.8500\n",
      "EPOCH: 19\n",
      "Training Accuracy: 99.7767; Validation Accuracy: 98.7700\n",
      "EPOCH: 20\n",
      "Training Accuracy: 99.8717; Validation Accuracy: 98.8700\n",
      "EPOCH: 21\n",
      "Training Accuracy: 99.7567; Validation Accuracy: 98.8500\n",
      "EPOCH: 22\n",
      "Training Accuracy: 99.7933; Validation Accuracy: 99.0100\n",
      "EPOCH: 23\n",
      "Training Accuracy: 99.8867; Validation Accuracy: 99.0500\n",
      "EPOCH: 24\n",
      "Training Accuracy: 99.8133; Validation Accuracy: 98.7600\n",
      "EPOCH: 25\n",
      "Training Accuracy: 99.8733; Validation Accuracy: 99.0000\n",
      "EPOCH: 26\n",
      "Training Accuracy: 99.8450; Validation Accuracy: 99.0200\n",
      "EPOCH: 27\n",
      "Training Accuracy: 99.7983; Validation Accuracy: 99.0300\n",
      "EPOCH: 28\n",
      "Training Accuracy: 99.8500; Validation Accuracy: 98.9800\n",
      "EPOCH: 29\n"
     ]
    },
    {
     "name": "stderr",
     "output_type": "stream",
     "text": [
      "[I 2023-10-17 13:02:17,790] Trial 1 finished with value: 99.04999542236328 and parameters: {'lr': 4.549220768103177e-05}. Best is trial 0 with value: 99.3499984741211.\n"
     ]
    },
    {
     "name": "stdout",
     "output_type": "stream",
     "text": [
      "Training Accuracy: 99.9100; Validation Accuracy: 98.8400\n",
      "EPOCH: 30\n",
      "EPOCH: 1\n",
      "Training Accuracy: 89.5483; Validation Accuracy: 97.8900\n",
      "EPOCH: 2\n",
      "Training Accuracy: 96.2367; Validation Accuracy: 91.6800\n",
      "EPOCH: 3\n",
      "Training Accuracy: 96.8867; Validation Accuracy: 98.2900\n",
      "EPOCH: 4\n",
      "Training Accuracy: 97.2367; Validation Accuracy: 98.4100\n",
      "EPOCH: 5\n",
      "Training Accuracy: 98.0000; Validation Accuracy: 98.4000\n",
      "EPOCH: 6\n",
      "Training Accuracy: 98.3500; Validation Accuracy: 98.6600\n",
      "EPOCH: 7\n",
      "Training Accuracy: 98.6467; Validation Accuracy: 98.3000\n",
      "EPOCH: 8\n",
      "Training Accuracy: 98.7467; Validation Accuracy: 98.8900\n",
      "EPOCH: 9\n",
      "Training Accuracy: 98.0817; Validation Accuracy: 98.3300\n",
      "EPOCH: 10\n",
      "Training Accuracy: 98.5150; Validation Accuracy: 98.9600\n",
      "EPOCH: 11\n",
      "Training Accuracy: 98.8083; Validation Accuracy: 98.7400\n",
      "EPOCH: 12\n",
      "Training Accuracy: 98.9183; Validation Accuracy: 98.7900\n",
      "EPOCH: 13\n",
      "Training Accuracy: 99.0983; Validation Accuracy: 98.9400\n",
      "EPOCH: 14\n",
      "Training Accuracy: 99.1117; Validation Accuracy: 98.8800\n",
      "EPOCH: 15\n",
      "Training Accuracy: 98.9450; Validation Accuracy: 98.7900\n",
      "EPOCH: 16\n",
      "Training Accuracy: 99.2050; Validation Accuracy: 99.1800\n",
      "EPOCH: 17\n",
      "Training Accuracy: 99.3117; Validation Accuracy: 98.5100\n",
      "EPOCH: 18\n",
      "Training Accuracy: 99.3283; Validation Accuracy: 99.1300\n",
      "EPOCH: 19\n",
      "Training Accuracy: 99.3267; Validation Accuracy: 98.9500\n",
      "EPOCH: 20\n",
      "Training Accuracy: 99.4033; Validation Accuracy: 99.0400\n",
      "EPOCH: 21\n",
      "Training Accuracy: 99.4983; Validation Accuracy: 98.8100\n",
      "EPOCH: 22\n",
      "Training Accuracy: 99.4633; Validation Accuracy: 98.8300\n",
      "EPOCH: 23\n",
      "Training Accuracy: 99.5367; Validation Accuracy: 99.0900\n",
      "EPOCH: 24\n",
      "Training Accuracy: 99.5667; Validation Accuracy: 99.1100\n",
      "EPOCH: 25\n",
      "Training Accuracy: 99.4933; Validation Accuracy: 98.8800\n",
      "EPOCH: 26\n",
      "Training Accuracy: 99.4517; Validation Accuracy: 99.0300\n",
      "EPOCH: 27\n",
      "Training Accuracy: 99.6450; Validation Accuracy: 99.0800\n",
      "EPOCH: 28\n",
      "Training Accuracy: 99.6100; Validation Accuracy: 99.1000\n",
      "EPOCH: 29\n",
      "Training Accuracy: 99.6467; Validation Accuracy: 99.2200\n",
      "EPOCH: 30\n",
      "Training Accuracy: 99.7117; Validation Accuracy: 98.9000\n",
      "EPOCH: 31\n",
      "Training Accuracy: 99.5967; Validation Accuracy: 98.9900\n",
      "EPOCH: 32\n",
      "Training Accuracy: 99.7267; Validation Accuracy: 98.9500\n",
      "EPOCH: 33\n",
      "Training Accuracy: 99.5733; Validation Accuracy: 99.0200\n",
      "EPOCH: 34\n",
      "Training Accuracy: 99.7117; Validation Accuracy: 99.1500\n",
      "EPOCH: 35\n"
     ]
    },
    {
     "name": "stderr",
     "output_type": "stream",
     "text": [
      "[I 2023-10-17 13:25:05,324] Trial 2 finished with value: 99.22000122070312 and parameters: {'lr': 0.009725659259442599}. Best is trial 0 with value: 99.3499984741211.\n"
     ]
    },
    {
     "name": "stdout",
     "output_type": "stream",
     "text": [
      "Training Accuracy: 99.7433; Validation Accuracy: 98.8600\n",
      "EPOCH: 36\n",
      "EPOCH: 1\n",
      "Training Accuracy: 78.7233; Validation Accuracy: 94.1100\n",
      "EPOCH: 2\n",
      "Training Accuracy: 94.3100; Validation Accuracy: 96.4000\n",
      "EPOCH: 3\n",
      "Training Accuracy: 96.5200; Validation Accuracy: 97.2700\n",
      "EPOCH: 4\n",
      "Training Accuracy: 97.6950; Validation Accuracy: 97.6200\n",
      "EPOCH: 5\n",
      "Training Accuracy: 98.2017; Validation Accuracy: 97.8700\n",
      "EPOCH: 6\n",
      "Training Accuracy: 98.7167; Validation Accuracy: 98.0800\n",
      "EPOCH: 7\n",
      "Training Accuracy: 99.1250; Validation Accuracy: 97.9200\n",
      "EPOCH: 8\n",
      "Training Accuracy: 99.3000; Validation Accuracy: 97.9600\n",
      "EPOCH: 9\n",
      "Training Accuracy: 99.3967; Validation Accuracy: 97.9800\n",
      "EPOCH: 10\n",
      "Training Accuracy: 99.5650; Validation Accuracy: 98.3300\n",
      "EPOCH: 11\n",
      "Training Accuracy: 99.5800; Validation Accuracy: 98.1100\n",
      "EPOCH: 12\n",
      "Training Accuracy: 99.6367; Validation Accuracy: 98.2800\n",
      "EPOCH: 13\n",
      "Training Accuracy: 99.6950; Validation Accuracy: 98.3100\n",
      "EPOCH: 14\n",
      "Training Accuracy: 99.7683; Validation Accuracy: 98.2100\n",
      "EPOCH: 15\n",
      "Training Accuracy: 99.7333; Validation Accuracy: 98.2500\n",
      "EPOCH: 16\n",
      "Training Accuracy: 99.7917; Validation Accuracy: 98.3200\n",
      "EPOCH: 17\n",
      "Training Accuracy: 99.8183; Validation Accuracy: 98.3600\n",
      "EPOCH: 18\n",
      "Training Accuracy: 99.7850; Validation Accuracy: 98.3200\n",
      "EPOCH: 19\n",
      "Training Accuracy: 99.8450; Validation Accuracy: 98.4700\n",
      "EPOCH: 20\n",
      "Training Accuracy: 99.8200; Validation Accuracy: 98.4800\n",
      "EPOCH: 21\n",
      "Training Accuracy: 99.8433; Validation Accuracy: 98.4000\n",
      "EPOCH: 22\n",
      "Training Accuracy: 99.8617; Validation Accuracy: 98.3300\n",
      "EPOCH: 23\n",
      "Training Accuracy: 99.8450; Validation Accuracy: 98.4000\n",
      "EPOCH: 24\n",
      "Training Accuracy: 99.8717; Validation Accuracy: 98.4100\n",
      "EPOCH: 25\n",
      "Training Accuracy: 99.8917; Validation Accuracy: 98.3600\n",
      "EPOCH: 26\n"
     ]
    },
    {
     "name": "stderr",
     "output_type": "stream",
     "text": [
      "[I 2023-10-17 13:41:45,851] Trial 3 finished with value: 98.47999572753906 and parameters: {'lr': 1.8990360289473992e-05}. Best is trial 0 with value: 99.3499984741211.\n"
     ]
    },
    {
     "name": "stdout",
     "output_type": "stream",
     "text": [
      "Training Accuracy: 99.8933; Validation Accuracy: 98.4100\n",
      "EPOCH: 27\n",
      "EPOCH: 1\n",
      "Training Accuracy: 92.5667; Validation Accuracy: 97.4900\n",
      "EPOCH: 2\n",
      "Training Accuracy: 96.9283; Validation Accuracy: 98.4300\n",
      "EPOCH: 3\n",
      "Training Accuracy: 97.7117; Validation Accuracy: 98.3600\n",
      "EPOCH: 4\n",
      "Training Accuracy: 98.4683; Validation Accuracy: 98.9400\n",
      "EPOCH: 5\n",
      "Training Accuracy: 98.6867; Validation Accuracy: 97.4500\n",
      "EPOCH: 6\n",
      "Training Accuracy: 98.6433; Validation Accuracy: 97.8400\n",
      "EPOCH: 7\n",
      "Training Accuracy: 98.7733; Validation Accuracy: 98.9500\n",
      "EPOCH: 8\n",
      "Training Accuracy: 99.0267; Validation Accuracy: 99.0100\n",
      "EPOCH: 9\n",
      "Training Accuracy: 99.1283; Validation Accuracy: 98.4700\n",
      "EPOCH: 10\n",
      "Training Accuracy: 99.1733; Validation Accuracy: 99.1300\n",
      "EPOCH: 11\n",
      "Training Accuracy: 99.0583; Validation Accuracy: 99.0900\n",
      "EPOCH: 12\n",
      "Training Accuracy: 99.3933; Validation Accuracy: 99.2500\n",
      "EPOCH: 13\n",
      "Training Accuracy: 99.4400; Validation Accuracy: 99.2600\n",
      "EPOCH: 14\n",
      "Training Accuracy: 99.3000; Validation Accuracy: 99.2500\n",
      "EPOCH: 15\n",
      "Training Accuracy: 99.5717; Validation Accuracy: 99.3300\n",
      "EPOCH: 16\n",
      "Training Accuracy: 99.5000; Validation Accuracy: 99.0000\n",
      "EPOCH: 17\n",
      "Training Accuracy: 99.5800; Validation Accuracy: 98.9700\n",
      "EPOCH: 18\n",
      "Training Accuracy: 99.5150; Validation Accuracy: 99.1400\n",
      "EPOCH: 19\n",
      "Training Accuracy: 99.6033; Validation Accuracy: 99.2700\n",
      "EPOCH: 20\n",
      "Training Accuracy: 99.6350; Validation Accuracy: 99.1200\n",
      "EPOCH: 21\n"
     ]
    },
    {
     "name": "stderr",
     "output_type": "stream",
     "text": [
      "[I 2023-10-17 13:55:14,960] Trial 4 finished with value: 99.33000183105469 and parameters: {'lr': 0.004716395958581933}. Best is trial 0 with value: 99.3499984741211.\n"
     ]
    },
    {
     "name": "stdout",
     "output_type": "stream",
     "text": [
      "Training Accuracy: 99.6817; Validation Accuracy: 99.2100\n",
      "EPOCH: 22\n",
      "EPOCH: 1\n",
      "Training Accuracy: 94.4350; Validation Accuracy: 98.3600\n",
      "EPOCH: 2\n",
      "Training Accuracy: 97.9833; Validation Accuracy: 96.9300\n",
      "EPOCH: 3\n",
      "Training Accuracy: 98.6250; Validation Accuracy: 98.6200\n",
      "EPOCH: 4\n",
      "Training Accuracy: 98.6100; Validation Accuracy: 97.5200\n",
      "EPOCH: 5\n",
      "Training Accuracy: 98.7667; Validation Accuracy: 98.3300\n",
      "EPOCH: 6\n",
      "Training Accuracy: 99.0367; Validation Accuracy: 99.0700\n",
      "EPOCH: 7\n",
      "Training Accuracy: 99.2150; Validation Accuracy: 99.0100\n",
      "EPOCH: 8\n",
      "Training Accuracy: 99.2450; Validation Accuracy: 99.1100\n",
      "EPOCH: 9\n",
      "Training Accuracy: 99.4217; Validation Accuracy: 99.1300\n",
      "EPOCH: 10\n",
      "Training Accuracy: 99.3233; Validation Accuracy: 97.9900\n",
      "EPOCH: 11\n",
      "Training Accuracy: 99.4250; Validation Accuracy: 99.3600\n",
      "EPOCH: 12\n",
      "Training Accuracy: 99.5933; Validation Accuracy: 99.2500\n",
      "EPOCH: 13\n",
      "Training Accuracy: 99.5450; Validation Accuracy: 99.2500\n",
      "EPOCH: 14\n",
      "Training Accuracy: 99.5433; Validation Accuracy: 98.9500\n",
      "EPOCH: 15\n",
      "Training Accuracy: 99.6650; Validation Accuracy: 99.4100\n",
      "EPOCH: 16\n",
      "Training Accuracy: 99.6217; Validation Accuracy: 99.3300\n",
      "EPOCH: 17\n",
      "Training Accuracy: 99.7683; Validation Accuracy: 99.0400\n",
      "EPOCH: 18\n",
      "Training Accuracy: 99.6933; Validation Accuracy: 98.9500\n",
      "EPOCH: 19\n",
      "Training Accuracy: 99.6767; Validation Accuracy: 99.2000\n",
      "EPOCH: 20\n",
      "Training Accuracy: 99.7100; Validation Accuracy: 99.2700\n",
      "EPOCH: 21\n",
      "Training Accuracy: 99.7717; Validation Accuracy: 99.3300\n",
      "EPOCH: 22\n"
     ]
    },
    {
     "name": "stderr",
     "output_type": "stream",
     "text": [
      "[I 2023-10-17 14:09:39,608] Trial 5 finished with value: 99.40999603271484 and parameters: {'lr': 0.0007653110733369356}. Best is trial 5 with value: 99.40999603271484.\n"
     ]
    },
    {
     "name": "stdout",
     "output_type": "stream",
     "text": [
      "Training Accuracy: 99.7950; Validation Accuracy: 99.3700\n",
      "EPOCH: 23\n",
      "EPOCH: 1\n",
      "Training Accuracy: 92.9833; Validation Accuracy: 97.8900\n",
      "EPOCH: 2\n",
      "Training Accuracy: 97.9100; Validation Accuracy: 98.3600\n",
      "EPOCH: 3\n",
      "Training Accuracy: 98.4700; Validation Accuracy: 98.8900\n",
      "EPOCH: 4\n",
      "Training Accuracy: 98.8350; Validation Accuracy: 98.5400\n",
      "EPOCH: 5\n",
      "Training Accuracy: 98.9850; Validation Accuracy: 99.1200\n",
      "EPOCH: 6\n",
      "Training Accuracy: 99.1150; Validation Accuracy: 98.9900\n",
      "EPOCH: 7\n",
      "Training Accuracy: 99.2667; Validation Accuracy: 98.9100\n",
      "EPOCH: 8\n",
      "Training Accuracy: 99.3583; Validation Accuracy: 99.2000\n",
      "EPOCH: 9\n",
      "Training Accuracy: 99.4117; Validation Accuracy: 98.0900\n",
      "EPOCH: 10\n",
      "Training Accuracy: 99.4967; Validation Accuracy: 99.1100\n",
      "EPOCH: 11\n",
      "Training Accuracy: 99.5550; Validation Accuracy: 99.0900\n",
      "EPOCH: 12\n",
      "Training Accuracy: 99.5783; Validation Accuracy: 98.9000\n",
      "EPOCH: 13\n",
      "Training Accuracy: 99.5800; Validation Accuracy: 99.0200\n",
      "EPOCH: 14\n",
      "Training Accuracy: 99.7050; Validation Accuracy: 99.0300\n",
      "EPOCH: 15\n",
      "Training Accuracy: 99.6417; Validation Accuracy: 99.1200\n",
      "EPOCH: 16\n",
      "Training Accuracy: 99.6917; Validation Accuracy: 99.0100\n",
      "EPOCH: 17\n",
      "Training Accuracy: 99.8083; Validation Accuracy: 99.3300\n",
      "EPOCH: 18\n",
      "Training Accuracy: 99.7600; Validation Accuracy: 99.2700\n",
      "EPOCH: 19\n",
      "Training Accuracy: 99.8167; Validation Accuracy: 99.1100\n",
      "EPOCH: 20\n",
      "Training Accuracy: 99.7500; Validation Accuracy: 99.2800\n",
      "EPOCH: 21\n",
      "Training Accuracy: 99.8517; Validation Accuracy: 99.2700\n",
      "EPOCH: 22\n",
      "Training Accuracy: 99.7983; Validation Accuracy: 99.2900\n",
      "EPOCH: 23\n",
      "Training Accuracy: 99.7683; Validation Accuracy: 99.1100\n",
      "EPOCH: 24\n"
     ]
    },
    {
     "name": "stderr",
     "output_type": "stream",
     "text": [
      "[I 2023-10-17 14:25:02,530] Trial 6 finished with value: 99.33000183105469 and parameters: {'lr': 0.0001587458543858116}. Best is trial 5 with value: 99.40999603271484.\n"
     ]
    },
    {
     "name": "stdout",
     "output_type": "stream",
     "text": [
      "Training Accuracy: 99.8167; Validation Accuracy: 99.1200\n",
      "EPOCH: 25\n",
      "EPOCH: 1\n",
      "Training Accuracy: 94.9417; Validation Accuracy: 98.4300\n",
      "EPOCH: 2\n",
      "Training Accuracy: 97.9150; Validation Accuracy: 98.2700\n",
      "EPOCH: 3\n",
      "Training Accuracy: 98.3367; Validation Accuracy: 98.8100\n",
      "EPOCH: 4\n",
      "Training Accuracy: 98.8417; Validation Accuracy: 98.9500\n",
      "EPOCH: 5\n",
      "Training Accuracy: 98.8867; Validation Accuracy: 98.6300\n",
      "EPOCH: 6\n",
      "Training Accuracy: 98.7950; Validation Accuracy: 98.8000\n",
      "EPOCH: 7\n",
      "Training Accuracy: 99.1917; Validation Accuracy: 99.1000\n",
      "EPOCH: 8\n",
      "Training Accuracy: 99.3083; Validation Accuracy: 98.8800\n",
      "EPOCH: 9\n",
      "Training Accuracy: 99.4267; Validation Accuracy: 99.2000\n",
      "EPOCH: 10\n",
      "Training Accuracy: 99.4900; Validation Accuracy: 98.9300\n",
      "EPOCH: 11\n",
      "Training Accuracy: 99.3033; Validation Accuracy: 99.0900\n",
      "EPOCH: 12\n",
      "Training Accuracy: 99.5700; Validation Accuracy: 99.2100\n",
      "EPOCH: 13\n",
      "Training Accuracy: 99.5583; Validation Accuracy: 99.2000\n",
      "EPOCH: 14\n",
      "Training Accuracy: 99.6767; Validation Accuracy: 99.3100\n",
      "EPOCH: 15\n",
      "Training Accuracy: 99.5600; Validation Accuracy: 99.1500\n",
      "EPOCH: 16\n",
      "Training Accuracy: 99.6333; Validation Accuracy: 99.3700\n",
      "EPOCH: 17\n",
      "Training Accuracy: 99.6933; Validation Accuracy: 99.3500\n",
      "EPOCH: 18\n",
      "Training Accuracy: 99.5300; Validation Accuracy: 99.1600\n",
      "EPOCH: 19\n",
      "Training Accuracy: 99.5217; Validation Accuracy: 99.3200\n",
      "EPOCH: 20\n",
      "Training Accuracy: 99.8567; Validation Accuracy: 99.3900\n",
      "EPOCH: 21\n",
      "Training Accuracy: 99.8017; Validation Accuracy: 99.1400\n",
      "EPOCH: 22\n",
      "Training Accuracy: 99.8000; Validation Accuracy: 99.2200\n",
      "EPOCH: 23\n",
      "Training Accuracy: 99.8200; Validation Accuracy: 99.3800\n",
      "EPOCH: 24\n",
      "Training Accuracy: 99.7783; Validation Accuracy: 99.3500\n",
      "EPOCH: 25\n",
      "Training Accuracy: 99.8217; Validation Accuracy: 99.0900\n",
      "EPOCH: 26\n"
     ]
    },
    {
     "name": "stderr",
     "output_type": "stream",
     "text": [
      "[I 2023-10-17 14:41:41,150] Trial 7 finished with value: 99.44999694824219 and parameters: {'lr': 0.0015069559237179816}. Best is trial 7 with value: 99.44999694824219.\n"
     ]
    },
    {
     "name": "stdout",
     "output_type": "stream",
     "text": [
      "Training Accuracy: 99.7517; Validation Accuracy: 99.4500\n",
      "EPOCH: 27\n",
      "EPOCH: 1\n",
      "Training Accuracy: 93.9167; Validation Accuracy: 98.2000\n",
      "EPOCH: 2\n",
      "Training Accuracy: 98.0333; Validation Accuracy: 97.9800\n",
      "EPOCH: 3\n",
      "Training Accuracy: 98.5667; Validation Accuracy: 98.5200\n",
      "EPOCH: 4\n",
      "Training Accuracy: 98.7450; Validation Accuracy: 97.5700\n",
      "EPOCH: 5\n",
      "Training Accuracy: 99.0450; Validation Accuracy: 98.9400\n",
      "EPOCH: 6\n",
      "Training Accuracy: 99.1500; Validation Accuracy: 99.0000\n",
      "EPOCH: 7\n",
      "Training Accuracy: 99.2467; Validation Accuracy: 98.5500\n",
      "EPOCH: 8\n",
      "Training Accuracy: 99.3583; Validation Accuracy: 98.8200\n",
      "EPOCH: 9\n",
      "Training Accuracy: 99.3917; Validation Accuracy: 98.8300\n",
      "EPOCH: 10\n",
      "Training Accuracy: 99.4783; Validation Accuracy: 99.3300\n",
      "EPOCH: 11\n",
      "Training Accuracy: 99.5717; Validation Accuracy: 99.0500\n",
      "EPOCH: 12\n",
      "Training Accuracy: 99.6050; Validation Accuracy: 99.2700\n",
      "EPOCH: 13\n",
      "Training Accuracy: 99.6183; Validation Accuracy: 99.1600\n",
      "EPOCH: 14\n",
      "Training Accuracy: 99.6467; Validation Accuracy: 99.1400\n",
      "EPOCH: 15\n",
      "Training Accuracy: 99.6900; Validation Accuracy: 99.1900\n",
      "EPOCH: 16\n",
      "Training Accuracy: 99.7133; Validation Accuracy: 99.0300\n",
      "EPOCH: 17\n",
      "Training Accuracy: 99.7133; Validation Accuracy: 99.1100\n",
      "EPOCH: 18\n",
      "Training Accuracy: 99.7167; Validation Accuracy: 99.4200\n",
      "EPOCH: 19\n",
      "Training Accuracy: 99.7983; Validation Accuracy: 99.1400\n",
      "EPOCH: 20\n",
      "Training Accuracy: 99.7683; Validation Accuracy: 99.1100\n",
      "EPOCH: 21\n",
      "Training Accuracy: 99.8133; Validation Accuracy: 99.4800\n",
      "EPOCH: 22\n",
      "Training Accuracy: 99.7800; Validation Accuracy: 99.0900\n",
      "EPOCH: 23\n",
      "Training Accuracy: 99.8650; Validation Accuracy: 99.1300\n",
      "EPOCH: 24\n",
      "Training Accuracy: 99.8233; Validation Accuracy: 99.1400\n",
      "EPOCH: 25\n",
      "Training Accuracy: 99.8333; Validation Accuracy: 99.0800\n",
      "EPOCH: 26\n",
      "Training Accuracy: 99.8183; Validation Accuracy: 99.1600\n",
      "EPOCH: 27\n"
     ]
    },
    {
     "name": "stderr",
     "output_type": "stream",
     "text": [
      "[I 2023-10-17 14:59:08,884] Trial 8 finished with value: 99.47999572753906 and parameters: {'lr': 0.00024460936466759193}. Best is trial 8 with value: 99.47999572753906.\n"
     ]
    },
    {
     "name": "stdout",
     "output_type": "stream",
     "text": [
      "Training Accuracy: 99.8717; Validation Accuracy: 98.5200\n",
      "EPOCH: 28\n",
      "EPOCH: 1\n",
      "Training Accuracy: 93.1783; Validation Accuracy: 97.5600\n",
      "EPOCH: 2\n",
      "Training Accuracy: 97.9850; Validation Accuracy: 98.2100\n",
      "EPOCH: 3\n",
      "Training Accuracy: 98.6033; Validation Accuracy: 98.3900\n",
      "EPOCH: 4\n",
      "Training Accuracy: 98.8700; Validation Accuracy: 98.7700\n",
      "EPOCH: 5\n",
      "Training Accuracy: 99.0933; Validation Accuracy: 98.7800\n",
      "EPOCH: 6\n",
      "Training Accuracy: 99.2367; Validation Accuracy: 98.8000\n",
      "EPOCH: 7\n",
      "Training Accuracy: 99.2800; Validation Accuracy: 99.1300\n",
      "EPOCH: 8\n",
      "Training Accuracy: 99.3533; Validation Accuracy: 99.1000\n",
      "EPOCH: 9\n",
      "Training Accuracy: 99.4700; Validation Accuracy: 98.8500\n",
      "EPOCH: 10\n",
      "Training Accuracy: 99.5033; Validation Accuracy: 98.9700\n",
      "EPOCH: 11\n",
      "Training Accuracy: 99.5750; Validation Accuracy: 99.0200\n",
      "EPOCH: 12\n",
      "Training Accuracy: 99.6583; Validation Accuracy: 98.9700\n",
      "EPOCH: 13\n",
      "Training Accuracy: 99.6633; Validation Accuracy: 99.0200\n",
      "EPOCH: 14\n",
      "Training Accuracy: 99.6583; Validation Accuracy: 99.2500\n",
      "EPOCH: 15\n",
      "Training Accuracy: 99.7283; Validation Accuracy: 98.9300\n",
      "EPOCH: 16\n",
      "Training Accuracy: 99.7233; Validation Accuracy: 98.8000\n",
      "EPOCH: 17\n",
      "Training Accuracy: 99.7133; Validation Accuracy: 99.0300\n",
      "EPOCH: 18\n",
      "Training Accuracy: 99.8050; Validation Accuracy: 99.1000\n",
      "EPOCH: 19\n",
      "Training Accuracy: 99.7733; Validation Accuracy: 99.0100\n",
      "EPOCH: 20\n"
     ]
    },
    {
     "name": "stderr",
     "output_type": "stream",
     "text": [
      "[I 2023-10-17 15:12:07,714] Trial 9 finished with value: 99.25 and parameters: {'lr': 0.00016589967072105623}. Best is trial 8 with value: 99.47999572753906.\n"
     ]
    },
    {
     "name": "stdout",
     "output_type": "stream",
     "text": [
      "Training Accuracy: 99.8383; Validation Accuracy: 99.2100\n",
      "EPOCH: 21\n"
     ]
    }
   ],
   "source": [
    "study.optimize(objective_function, n_trials=10)"
   ]
  },
  {
   "cell_type": "code",
   "execution_count": 12,
   "id": "d67e3657",
   "metadata": {},
   "outputs": [],
   "source": [
    "model = create_model()"
   ]
  },
  {
   "cell_type": "code",
   "execution_count": 14,
   "id": "57256157",
   "metadata": {},
   "outputs": [
    {
     "data": {
      "text/plain": [
       "99.47999572753906"
      ]
     },
     "execution_count": 14,
     "metadata": {},
     "output_type": "execute_result"
    }
   ],
   "source": [
    "best_trial = study.best_trial\n",
    "best_trial.value # this should be 99.48%"
   ]
  },
  {
   "cell_type": "code",
   "execution_count": 15,
   "id": "b6b7de62",
   "metadata": {},
   "outputs": [
    {
     "data": {
      "text/plain": [
       "{'lr': 0.00024460936466759193}"
      ]
     },
     "execution_count": 15,
     "metadata": {},
     "output_type": "execute_result"
    }
   ],
   "source": [
    "best_trial.params"
   ]
  },
  {
   "cell_type": "code",
   "execution_count": 16,
   "id": "5954f185",
   "metadata": {},
   "outputs": [
    {
     "data": {
      "text/plain": [
       "<All keys matched successfully>"
      ]
     },
     "execution_count": 16,
     "metadata": {},
     "output_type": "execute_result"
    }
   ],
   "source": [
    "model.load_state_dict(best_trial.user_attrs.get(\"best_state_dict\"))"
   ]
  },
  {
   "cell_type": "code",
   "execution_count": 18,
   "id": "ab5e7567",
   "metadata": {},
   "outputs": [
    {
     "data": {
      "text/plain": [
       "(3.1649037593723506, tensor(9948, device='mps:0'))"
      ]
     },
     "execution_count": 18,
     "metadata": {},
     "output_type": "execute_result"
    }
   ],
   "source": [
    "eval_net_on_data(test_loader, model) # expexted 9820; i.e.: 99.48%"
   ]
  },
  {
   "cell_type": "code",
   "execution_count": 19,
   "id": "7875bf0f",
   "metadata": {},
   "outputs": [],
   "source": [
    "torch.save(model, 'resnet_MNIST.pt')"
   ]
  }
 ],
 "metadata": {
  "kernelspec": {
   "display_name": "Python 3 (ipykernel)",
   "language": "python",
   "name": "python3"
  },
  "language_info": {
   "codemirror_mode": {
    "name": "ipython",
    "version": 3
   },
   "file_extension": ".py",
   "mimetype": "text/x-python",
   "name": "python",
   "nbconvert_exporter": "python",
   "pygments_lexer": "ipython3",
   "version": "3.8.17"
  }
 },
 "nbformat": 4,
 "nbformat_minor": 5
}
